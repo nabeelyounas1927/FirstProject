{
 "cells": [
  {
   "cell_type": "markdown",
   "id": "a64b68d4",
   "metadata": {},
   "source": [
    "# Data Science tools and Ecosystem\n"
   ]
  },
  {
   "cell_type": "markdown",
   "id": "a37313cb",
   "metadata": {},
   "source": [
    "in this notebook we will summarize data science tools and ecosystem"
   ]
  },
  {
   "cell_type": "markdown",
   "id": "102f5bae",
   "metadata": {},
   "source": [
    "Some of the popular languages that Data Scientists use are:\n",
    "\n",
    "-.Python.\n",
    "-.R.\n",
    "-.SQL.\n",
    "-.Java.\n",
    "-.Julia.\n",
    "-.Scala.\n",
    "-.C/C++.\n",
    "-.JavaScript"
   ]
  },
  {
   "cell_type": "markdown",
   "id": "4efb7aaf",
   "metadata": {},
   "source": [
    "Some of the commonly used libraries used by Data Scientists include:\n",
    "\n",
    "-.TensorFlow.\n",
    "-.NumPy.\n",
    "-.SciPy.\n",
    "-.Pandas.\n",
    "-.Matplotlib.\n",
    "-.Keras.\n",
    "-.SciKit-Learn.\n",
    "-.PyTorch.\n",
    "-.Scrapy.\n",
    "-.BeautifulSoup."
   ]
  },
  {
   "cell_type": "markdown",
   "id": "76431dd3",
   "metadata": {},
   "source": [
    "Data Science Tools:\n",
    "-.Hadoop\n",
    "-.Apache Spark\n",
    "-.SQL\n",
    "-.python\n",
    "-.Big Data"
   ]
  },
  {
   "cell_type": "markdown",
   "id": "691d2b38",
   "metadata": {},
   "source": [
    "These operators are  (addition),(subtraction) (multiplication) (division)"
   ]
  },
  {
   "cell_type": "code",
   "execution_count": 1,
   "id": "7ac14d66",
   "metadata": {},
   "outputs": [
    {
     "data": {
      "text/plain": [
       "12"
      ]
     },
     "execution_count": 1,
     "metadata": {},
     "output_type": "execute_result"
    }
   ],
   "source": [
    "3*4"
   ]
  },
  {
   "cell_type": "code",
   "execution_count": 2,
   "id": "2376319f",
   "metadata": {},
   "outputs": [
    {
     "data": {
      "text/plain": [
       "2.0"
      ]
     },
     "execution_count": 2,
     "metadata": {},
     "output_type": "execute_result"
    }
   ],
   "source": [
    "4/2"
   ]
  },
  {
   "cell_type": "code",
   "execution_count": 3,
   "id": "4b55adde",
   "metadata": {},
   "outputs": [
    {
     "data": {
      "text/plain": [
       "4"
      ]
     },
     "execution_count": 3,
     "metadata": {},
     "output_type": "execute_result"
    }
   ],
   "source": [
    "2+2"
   ]
  },
  {
   "cell_type": "code",
   "execution_count": 4,
   "id": "09440a95",
   "metadata": {},
   "outputs": [
    {
     "data": {
      "text/plain": [
       "2"
      ]
     },
     "execution_count": 4,
     "metadata": {},
     "output_type": "execute_result"
    }
   ],
   "source": [
    "5-3"
   ]
  },
  {
   "cell_type": "code",
   "execution_count": 7,
   "id": "41f28203",
   "metadata": {},
   "outputs": [
    {
     "data": {
      "text/plain": [
       "143"
      ]
     },
     "execution_count": 7,
     "metadata": {},
     "output_type": "execute_result"
    }
   ],
   "source": [
    "(23*6)+5"
   ]
  },
  {
   "cell_type": "markdown",
   "id": "c2ba63bd",
   "metadata": {},
   "source": [
    "This will convert 250 minutes to hours by diving by 60"
   ]
  },
  {
   "cell_type": "code",
   "execution_count": 8,
   "id": "c2a4718a",
   "metadata": {},
   "outputs": [
    {
     "name": "stdout",
     "output_type": "stream",
     "text": [
      "0 days, 4.166666666666667 hours, 0 mins. \n"
     ]
    }
   ],
   "source": [
    "days = 0\n",
    "hours = 0\n",
    "mins = 0\n",
    "\n",
    "time = 250\n",
    "#days = time / 1440\n",
    "leftover_minutes = time % 1440\n",
    "hours = leftover_minutes / 60\n",
    "#mins = time - (days*1440) - (hours*60)\n",
    "print(str(days) + \" days, \" + str(hours) + \" hours, \" + str(mins) +  \" mins. \")\n",
    "\n",
    "# Result: 3.3333333333333335 hours"
   ]
  },
  {
   "cell_type": "markdown",
   "id": "504cd659",
   "metadata": {},
   "source": [
    "In this markdown we will list the things that we cover in this course which is tools required for beinf succesful data scientist\n",
    "1.python\n",
    "2.R\n",
    "3.SQL\n",
    "4.Hadoop"
   ]
  },
  {
   "cell_type": "markdown",
   "id": "e8718f53",
   "metadata": {},
   "source": [
    "Author:\n",
    "Lakshmi Holla"
   ]
  },
  {
   "cell_type": "code",
   "execution_count": null,
   "id": "c615dfc3",
   "metadata": {},
   "outputs": [],
   "source": []
  }
 ],
 "metadata": {
  "kernelspec": {
   "display_name": "Python 3 (ipykernel)",
   "language": "python",
   "name": "python3"
  },
  "language_info": {
   "codemirror_mode": {
    "name": "ipython",
    "version": 3
   },
   "file_extension": ".py",
   "mimetype": "text/x-python",
   "name": "python",
   "nbconvert_exporter": "python",
   "pygments_lexer": "ipython3",
   "version": "3.9.13"
  }
 },
 "nbformat": 4,
 "nbformat_minor": 5
}
